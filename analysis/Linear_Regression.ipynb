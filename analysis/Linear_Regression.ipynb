{
 "cells": [
  {
   "cell_type": "code",
   "execution_count": 277,
   "metadata": {
    "collapsed": false
   },
   "outputs": [
    {
     "name": "stdout",
     "output_type": "stream",
     "text": [
      "Populating the interactive namespace from numpy and matplotlib\n"
     ]
    }
   ],
   "source": [
    "import numpy as np\n",
    "import pandas as pd\n",
    "import statsmodels.formula.api as smf\n",
    "import pylab as pl\n",
    "\n",
    "%pylab inline"
   ]
  },
  {
   "cell_type": "markdown",
   "metadata": {},
   "source": [
    "### Read the data"
   ]
  },
  {
   "cell_type": "code",
   "execution_count": 278,
   "metadata": {
    "collapsed": false
   },
   "outputs": [],
   "source": [
    "data = pd.read_csv(\"../Final_Data/final1213_reshaped_v2.csv\")\n",
    "data = data.iloc[:,1:]\n",
    "\n",
    "\n",
    "data.Hour = data.Hour.astype('category', ordered = False)\n",
    "data.Month = data.Month.astype('category', ordered = False)\n",
    "data.WeekofYear = data.WeekofYear.astype('category', ordered = False)\n",
    "data.DayofWeek = data.DayofWeek.astype('category', ordered = False)\n",
    "data.Year = data.Year.astype('category', ordered = False)\n",
    "data.Income = data.Income.astype('category', ordered = False)"
   ]
  },
  {
   "cell_type": "code",
   "execution_count": 279,
   "metadata": {
    "collapsed": false
   },
   "outputs": [
    {
     "data": {
      "text/html": [
       "<div>\n",
       "<table border=\"1\" class=\"dataframe\">\n",
       "  <thead>\n",
       "    <tr style=\"text-align: right;\">\n",
       "      <th></th>\n",
       "      <th>Datetime</th>\n",
       "      <th>Dew_Point_F</th>\n",
       "      <th>Humidity</th>\n",
       "      <th>Temperature_F</th>\n",
       "      <th>Wind_Speed_MPH</th>\n",
       "      <th>Consumption</th>\n",
       "      <th>Income</th>\n",
       "      <th>Overall</th>\n",
       "      <th>Month</th>\n",
       "      <th>DayofWeek</th>\n",
       "      <th>Hour</th>\n",
       "      <th>WeekofYear</th>\n",
       "      <th>Year</th>\n",
       "    </tr>\n",
       "  </thead>\n",
       "  <tbody>\n",
       "    <tr>\n",
       "      <th>0</th>\n",
       "      <td>2012-01-01 00:00:00</td>\n",
       "      <td>50.0</td>\n",
       "      <td>88</td>\n",
       "      <td>53.6</td>\n",
       "      <td>13.8</td>\n",
       "      <td>0.221192</td>\n",
       "      <td>1</td>\n",
       "      <td>0.231749</td>\n",
       "      <td>1</td>\n",
       "      <td>6</td>\n",
       "      <td>0</td>\n",
       "      <td>52</td>\n",
       "      <td>2012</td>\n",
       "    </tr>\n",
       "    <tr>\n",
       "      <th>1</th>\n",
       "      <td>2012-01-01 00:00:00</td>\n",
       "      <td>50.0</td>\n",
       "      <td>88</td>\n",
       "      <td>53.6</td>\n",
       "      <td>13.8</td>\n",
       "      <td>0.190114</td>\n",
       "      <td>2</td>\n",
       "      <td>0.231749</td>\n",
       "      <td>1</td>\n",
       "      <td>6</td>\n",
       "      <td>0</td>\n",
       "      <td>52</td>\n",
       "      <td>2012</td>\n",
       "    </tr>\n",
       "    <tr>\n",
       "      <th>2</th>\n",
       "      <td>2012-01-01 00:00:00</td>\n",
       "      <td>50.0</td>\n",
       "      <td>88</td>\n",
       "      <td>53.6</td>\n",
       "      <td>13.8</td>\n",
       "      <td>0.268072</td>\n",
       "      <td>3</td>\n",
       "      <td>0.231749</td>\n",
       "      <td>1</td>\n",
       "      <td>6</td>\n",
       "      <td>0</td>\n",
       "      <td>52</td>\n",
       "      <td>2012</td>\n",
       "    </tr>\n",
       "    <tr>\n",
       "      <th>3</th>\n",
       "      <td>2012-01-01 01:00:00</td>\n",
       "      <td>50.0</td>\n",
       "      <td>88</td>\n",
       "      <td>53.6</td>\n",
       "      <td>15.0</td>\n",
       "      <td>0.616456</td>\n",
       "      <td>1</td>\n",
       "      <td>0.550101</td>\n",
       "      <td>1</td>\n",
       "      <td>6</td>\n",
       "      <td>1</td>\n",
       "      <td>52</td>\n",
       "      <td>2012</td>\n",
       "    </tr>\n",
       "    <tr>\n",
       "      <th>4</th>\n",
       "      <td>2012-01-01 01:00:00</td>\n",
       "      <td>50.0</td>\n",
       "      <td>88</td>\n",
       "      <td>53.6</td>\n",
       "      <td>15.0</td>\n",
       "      <td>0.355447</td>\n",
       "      <td>2</td>\n",
       "      <td>0.550101</td>\n",
       "      <td>1</td>\n",
       "      <td>6</td>\n",
       "      <td>1</td>\n",
       "      <td>52</td>\n",
       "      <td>2012</td>\n",
       "    </tr>\n",
       "  </tbody>\n",
       "</table>\n",
       "</div>"
      ],
      "text/plain": [
       "              Datetime  Dew_Point_F  Humidity  Temperature_F  Wind_Speed_MPH  \\\n",
       "0  2012-01-01 00:00:00         50.0        88           53.6            13.8   \n",
       "1  2012-01-01 00:00:00         50.0        88           53.6            13.8   \n",
       "2  2012-01-01 00:00:00         50.0        88           53.6            13.8   \n",
       "3  2012-01-01 01:00:00         50.0        88           53.6            15.0   \n",
       "4  2012-01-01 01:00:00         50.0        88           53.6            15.0   \n",
       "\n",
       "   Consumption Income   Overall Month DayofWeek Hour WeekofYear  Year  \n",
       "0     0.221192      1  0.231749     1         6    0         52  2012  \n",
       "1     0.190114      2  0.231749     1         6    0         52  2012  \n",
       "2     0.268072      3  0.231749     1         6    0         52  2012  \n",
       "3     0.616456      1  0.550101     1         6    1         52  2012  \n",
       "4     0.355447      2  0.550101     1         6    1         52  2012  "
      ]
     },
     "execution_count": 279,
     "metadata": {},
     "output_type": "execute_result"
    }
   ],
   "source": [
    "data.head()"
   ]
  },
  {
   "cell_type": "code",
   "execution_count": 280,
   "metadata": {
    "collapsed": false
   },
   "outputs": [],
   "source": [
    "data.Hour.cat.rename_categories(['Hour%d' % g for g in data.Hour.cat.categories], inplace=True)\n",
    "data.Month.cat.rename_categories(['Month%d' % g for g in data.Month.cat.categories], inplace=True)\n",
    "data.WeekofYear.cat.rename_categories(['WeekofYear%d' % g for g in data.WeekofYear.cat.categories], inplace=True)\n",
    "data.DayofWeek.cat.rename_categories(['DayofWeek%d' % g for g in data.DayofWeek.cat.categories], inplace=True)\n",
    "data.Year.cat.rename_categories(['Year%d' % g for g in data.Year.cat.categories], inplace=True)\n",
    "data.Income.cat.rename_categories(['Income%d' % g for g in data.Income.cat.categories], inplace=True)\n"
   ]
  },
  {
   "cell_type": "code",
   "execution_count": 281,
   "metadata": {
    "collapsed": false
   },
   "outputs": [],
   "source": [
    "data.Hour = data.Hour.astype('str')\n",
    "data.Month = data.Month.astype('str')\n",
    "data.WeekofYear = data.WeekofYear.astype('str')\n",
    "data.DayofWeek = data.DayofWeek.astype('str')\n",
    "data.Year = data.Year.astype('str')\n",
    "data.Income = data.Income.astype('str')\n",
    "#data.stdorToU = data.stdorToU.astype('str')"
   ]
  },
  {
   "cell_type": "code",
   "execution_count": 282,
   "metadata": {
    "collapsed": false,
    "scrolled": false
   },
   "outputs": [
    {
     "data": {
      "text/html": [
       "<div>\n",
       "<table border=\"1\" class=\"dataframe\">\n",
       "  <thead>\n",
       "    <tr style=\"text-align: right;\">\n",
       "      <th></th>\n",
       "      <th>Datetime</th>\n",
       "      <th>Dew_Point_F</th>\n",
       "      <th>Humidity</th>\n",
       "      <th>Temperature_F</th>\n",
       "      <th>Wind_Speed_MPH</th>\n",
       "      <th>Consumption</th>\n",
       "      <th>Income</th>\n",
       "      <th>Overall</th>\n",
       "      <th>Month</th>\n",
       "      <th>DayofWeek</th>\n",
       "      <th>Hour</th>\n",
       "      <th>WeekofYear</th>\n",
       "      <th>Year</th>\n",
       "    </tr>\n",
       "  </thead>\n",
       "  <tbody>\n",
       "    <tr>\n",
       "      <th>0</th>\n",
       "      <td>2012-01-01 00:00:00</td>\n",
       "      <td>50.0</td>\n",
       "      <td>88</td>\n",
       "      <td>53.6</td>\n",
       "      <td>13.8</td>\n",
       "      <td>0.221192</td>\n",
       "      <td>Income1</td>\n",
       "      <td>0.231749</td>\n",
       "      <td>Month1</td>\n",
       "      <td>DayofWeek6</td>\n",
       "      <td>Hour0</td>\n",
       "      <td>WeekofYear52</td>\n",
       "      <td>Year2012</td>\n",
       "    </tr>\n",
       "    <tr>\n",
       "      <th>1</th>\n",
       "      <td>2012-01-01 00:00:00</td>\n",
       "      <td>50.0</td>\n",
       "      <td>88</td>\n",
       "      <td>53.6</td>\n",
       "      <td>13.8</td>\n",
       "      <td>0.190114</td>\n",
       "      <td>Income2</td>\n",
       "      <td>0.231749</td>\n",
       "      <td>Month1</td>\n",
       "      <td>DayofWeek6</td>\n",
       "      <td>Hour0</td>\n",
       "      <td>WeekofYear52</td>\n",
       "      <td>Year2012</td>\n",
       "    </tr>\n",
       "    <tr>\n",
       "      <th>2</th>\n",
       "      <td>2012-01-01 00:00:00</td>\n",
       "      <td>50.0</td>\n",
       "      <td>88</td>\n",
       "      <td>53.6</td>\n",
       "      <td>13.8</td>\n",
       "      <td>0.268072</td>\n",
       "      <td>Income3</td>\n",
       "      <td>0.231749</td>\n",
       "      <td>Month1</td>\n",
       "      <td>DayofWeek6</td>\n",
       "      <td>Hour0</td>\n",
       "      <td>WeekofYear52</td>\n",
       "      <td>Year2012</td>\n",
       "    </tr>\n",
       "    <tr>\n",
       "      <th>3</th>\n",
       "      <td>2012-01-01 01:00:00</td>\n",
       "      <td>50.0</td>\n",
       "      <td>88</td>\n",
       "      <td>53.6</td>\n",
       "      <td>15.0</td>\n",
       "      <td>0.616456</td>\n",
       "      <td>Income1</td>\n",
       "      <td>0.550101</td>\n",
       "      <td>Month1</td>\n",
       "      <td>DayofWeek6</td>\n",
       "      <td>Hour1</td>\n",
       "      <td>WeekofYear52</td>\n",
       "      <td>Year2012</td>\n",
       "    </tr>\n",
       "    <tr>\n",
       "      <th>4</th>\n",
       "      <td>2012-01-01 01:00:00</td>\n",
       "      <td>50.0</td>\n",
       "      <td>88</td>\n",
       "      <td>53.6</td>\n",
       "      <td>15.0</td>\n",
       "      <td>0.355447</td>\n",
       "      <td>Income2</td>\n",
       "      <td>0.550101</td>\n",
       "      <td>Month1</td>\n",
       "      <td>DayofWeek6</td>\n",
       "      <td>Hour1</td>\n",
       "      <td>WeekofYear52</td>\n",
       "      <td>Year2012</td>\n",
       "    </tr>\n",
       "  </tbody>\n",
       "</table>\n",
       "</div>"
      ],
      "text/plain": [
       "              Datetime  Dew_Point_F  Humidity  Temperature_F  Wind_Speed_MPH  \\\n",
       "0  2012-01-01 00:00:00         50.0        88           53.6            13.8   \n",
       "1  2012-01-01 00:00:00         50.0        88           53.6            13.8   \n",
       "2  2012-01-01 00:00:00         50.0        88           53.6            13.8   \n",
       "3  2012-01-01 01:00:00         50.0        88           53.6            15.0   \n",
       "4  2012-01-01 01:00:00         50.0        88           53.6            15.0   \n",
       "\n",
       "   Consumption   Income   Overall   Month   DayofWeek   Hour    WeekofYear  \\\n",
       "0     0.221192  Income1  0.231749  Month1  DayofWeek6  Hour0  WeekofYear52   \n",
       "1     0.190114  Income2  0.231749  Month1  DayofWeek6  Hour0  WeekofYear52   \n",
       "2     0.268072  Income3  0.231749  Month1  DayofWeek6  Hour0  WeekofYear52   \n",
       "3     0.616456  Income1  0.550101  Month1  DayofWeek6  Hour1  WeekofYear52   \n",
       "4     0.355447  Income2  0.550101  Month1  DayofWeek6  Hour1  WeekofYear52   \n",
       "\n",
       "       Year  \n",
       "0  Year2012  \n",
       "1  Year2012  \n",
       "2  Year2012  \n",
       "3  Year2012  \n",
       "4  Year2012  "
      ]
     },
     "execution_count": 282,
     "metadata": {},
     "output_type": "execute_result"
    }
   ],
   "source": [
    "data.head()"
   ]
  },
  {
   "cell_type": "code",
   "execution_count": 283,
   "metadata": {
    "collapsed": false,
    "scrolled": true
   },
   "outputs": [
    {
     "name": "stdout",
     "output_type": "stream",
     "text": [
      "<class 'pandas.core.frame.DataFrame'>\n",
      "RangeIndex: 52512 entries, 0 to 52511\n",
      "Data columns (total 13 columns):\n",
      "Datetime          52512 non-null object\n",
      "Dew_Point_F       52512 non-null float64\n",
      "Humidity          52512 non-null int64\n",
      "Temperature_F     52512 non-null float64\n",
      "Wind_Speed_MPH    51879 non-null float64\n",
      "Consumption       52512 non-null float64\n",
      "Income            52512 non-null object\n",
      "Overall           52512 non-null float64\n",
      "Month             52512 non-null object\n",
      "DayofWeek         52512 non-null object\n",
      "Hour              52512 non-null object\n",
      "WeekofYear        52512 non-null object\n",
      "Year              52512 non-null object\n",
      "dtypes: float64(5), int64(1), object(7)\n",
      "memory usage: 5.2+ MB\n"
     ]
    }
   ],
   "source": [
    "data.info()"
   ]
  },
  {
   "cell_type": "code",
   "execution_count": 284,
   "metadata": {
    "collapsed": false
   },
   "outputs": [],
   "source": [
    "# splitting training and testing data\n",
    "train = data[data.Year == 'Year2012']\n",
    "valid = data[data.Year == 'Year2013']\n",
    "train = train.dropna()\n",
    "valid = valid.dropna()\n"
   ]
  },
  {
   "cell_type": "code",
   "execution_count": 285,
   "metadata": {
    "collapsed": false,
    "scrolled": true
   },
   "outputs": [
    {
     "data": {
      "text/html": [
       "<div>\n",
       "<table border=\"1\" class=\"dataframe\">\n",
       "  <thead>\n",
       "    <tr style=\"text-align: right;\">\n",
       "      <th></th>\n",
       "      <th>Datetime</th>\n",
       "      <th>Dew_Point_F</th>\n",
       "      <th>Humidity</th>\n",
       "      <th>Temperature_F</th>\n",
       "      <th>Wind_Speed_MPH</th>\n",
       "      <th>Consumption</th>\n",
       "      <th>Income</th>\n",
       "      <th>Overall</th>\n",
       "      <th>Month</th>\n",
       "      <th>DayofWeek</th>\n",
       "      <th>Hour</th>\n",
       "      <th>WeekofYear</th>\n",
       "      <th>Year</th>\n",
       "    </tr>\n",
       "  </thead>\n",
       "  <tbody>\n",
       "    <tr>\n",
       "      <th>26283</th>\n",
       "      <td>2013-01-01 00:00:00</td>\n",
       "      <td>44.6</td>\n",
       "      <td>87</td>\n",
       "      <td>48.2</td>\n",
       "      <td>9.2</td>\n",
       "      <td>0.214885</td>\n",
       "      <td>Income1</td>\n",
       "      <td>0.250803</td>\n",
       "      <td>Month1</td>\n",
       "      <td>DayofWeek1</td>\n",
       "      <td>Hour0</td>\n",
       "      <td>WeekofYear1</td>\n",
       "      <td>Year2013</td>\n",
       "    </tr>\n",
       "    <tr>\n",
       "      <th>26284</th>\n",
       "      <td>2013-01-01 00:00:00</td>\n",
       "      <td>44.6</td>\n",
       "      <td>87</td>\n",
       "      <td>48.2</td>\n",
       "      <td>9.2</td>\n",
       "      <td>0.244850</td>\n",
       "      <td>Income2</td>\n",
       "      <td>0.250803</td>\n",
       "      <td>Month1</td>\n",
       "      <td>DayofWeek1</td>\n",
       "      <td>Hour0</td>\n",
       "      <td>WeekofYear1</td>\n",
       "      <td>Year2013</td>\n",
       "    </tr>\n",
       "    <tr>\n",
       "      <th>26285</th>\n",
       "      <td>2013-01-01 00:00:00</td>\n",
       "      <td>44.6</td>\n",
       "      <td>87</td>\n",
       "      <td>48.2</td>\n",
       "      <td>9.2</td>\n",
       "      <td>0.284734</td>\n",
       "      <td>Income3</td>\n",
       "      <td>0.250803</td>\n",
       "      <td>Month1</td>\n",
       "      <td>DayofWeek1</td>\n",
       "      <td>Hour0</td>\n",
       "      <td>WeekofYear1</td>\n",
       "      <td>Year2013</td>\n",
       "    </tr>\n",
       "    <tr>\n",
       "      <th>26286</th>\n",
       "      <td>2013-01-01 01:00:00</td>\n",
       "      <td>44.6</td>\n",
       "      <td>87</td>\n",
       "      <td>48.2</td>\n",
       "      <td>10.4</td>\n",
       "      <td>0.387206</td>\n",
       "      <td>Income1</td>\n",
       "      <td>0.442699</td>\n",
       "      <td>Month1</td>\n",
       "      <td>DayofWeek1</td>\n",
       "      <td>Hour1</td>\n",
       "      <td>WeekofYear1</td>\n",
       "      <td>Year2013</td>\n",
       "    </tr>\n",
       "    <tr>\n",
       "      <th>26287</th>\n",
       "      <td>2013-01-01 01:00:00</td>\n",
       "      <td>44.6</td>\n",
       "      <td>87</td>\n",
       "      <td>48.2</td>\n",
       "      <td>10.4</td>\n",
       "      <td>0.426540</td>\n",
       "      <td>Income2</td>\n",
       "      <td>0.442699</td>\n",
       "      <td>Month1</td>\n",
       "      <td>DayofWeek1</td>\n",
       "      <td>Hour1</td>\n",
       "      <td>WeekofYear1</td>\n",
       "      <td>Year2013</td>\n",
       "    </tr>\n",
       "  </tbody>\n",
       "</table>\n",
       "</div>"
      ],
      "text/plain": [
       "                  Datetime  Dew_Point_F  Humidity  Temperature_F  \\\n",
       "26283  2013-01-01 00:00:00         44.6        87           48.2   \n",
       "26284  2013-01-01 00:00:00         44.6        87           48.2   \n",
       "26285  2013-01-01 00:00:00         44.6        87           48.2   \n",
       "26286  2013-01-01 01:00:00         44.6        87           48.2   \n",
       "26287  2013-01-01 01:00:00         44.6        87           48.2   \n",
       "\n",
       "       Wind_Speed_MPH  Consumption   Income   Overall   Month   DayofWeek  \\\n",
       "26283             9.2     0.214885  Income1  0.250803  Month1  DayofWeek1   \n",
       "26284             9.2     0.244850  Income2  0.250803  Month1  DayofWeek1   \n",
       "26285             9.2     0.284734  Income3  0.250803  Month1  DayofWeek1   \n",
       "26286            10.4     0.387206  Income1  0.442699  Month1  DayofWeek1   \n",
       "26287            10.4     0.426540  Income2  0.442699  Month1  DayofWeek1   \n",
       "\n",
       "        Hour   WeekofYear      Year  \n",
       "26283  Hour0  WeekofYear1  Year2013  \n",
       "26284  Hour0  WeekofYear1  Year2013  \n",
       "26285  Hour0  WeekofYear1  Year2013  \n",
       "26286  Hour1  WeekofYear1  Year2013  \n",
       "26287  Hour1  WeekofYear1  Year2013  "
      ]
     },
     "execution_count": 285,
     "metadata": {},
     "output_type": "execute_result"
    }
   ],
   "source": [
    "valid.head()"
   ]
  },
  {
   "cell_type": "code",
   "execution_count": 286,
   "metadata": {
    "collapsed": false
   },
   "outputs": [
    {
     "data": {
      "text/plain": [
       "25977"
      ]
     },
     "execution_count": 286,
     "metadata": {},
     "output_type": "execute_result"
    }
   ],
   "source": [
    "len(train)"
   ]
  },
  {
   "cell_type": "markdown",
   "metadata": {},
   "source": [
    "## Reference model (Cubic temperature, no wind or humidity)"
   ]
  },
  {
   "cell_type": "code",
   "execution_count": 287,
   "metadata": {
    "collapsed": false
   },
   "outputs": [
    {
     "data": {
      "text/html": [
       "<table class=\"simpletable\">\n",
       "<caption>OLS Regression Results</caption>\n",
       "<tr>\n",
       "  <th>Dep. Variable:</th>       <td>Consumption</td>   <th>  R-squared:         </th>  <td>   0.845</td> \n",
       "</tr>\n",
       "<tr>\n",
       "  <th>Model:</th>                   <td>OLS</td>       <th>  Adj. R-squared:    </th>  <td>   0.844</td> \n",
       "</tr>\n",
       "<tr>\n",
       "  <th>Method:</th>             <td>Least Squares</td>  <th>  F-statistic:       </th>  <td>   1658.</td> \n",
       "</tr>\n",
       "<tr>\n",
       "  <th>Date:</th>             <td>Mon, 12 Dec 2016</td> <th>  Prob (F-statistic):</th>   <td>  0.00</td>  \n",
       "</tr>\n",
       "<tr>\n",
       "  <th>Time:</th>                 <td>02:06:15</td>     <th>  Log-Likelihood:    </th>  <td>  35437.</td> \n",
       "</tr>\n",
       "<tr>\n",
       "  <th>No. Observations:</th>      <td> 25977</td>      <th>  AIC:               </th> <td>-7.070e+04</td>\n",
       "</tr>\n",
       "<tr>\n",
       "  <th>Df Residuals:</th>          <td> 25891</td>      <th>  BIC:               </th> <td>-7.000e+04</td>\n",
       "</tr>\n",
       "<tr>\n",
       "  <th>Df Model:</th>              <td>    85</td>      <th>                     </th>      <td> </td>    \n",
       "</tr>\n",
       "<tr>\n",
       "  <th>Covariance Type:</th>      <td>nonrobust</td>    <th>                     </th>      <td> </td>    \n",
       "</tr>\n",
       "</table>\n",
       "<table class=\"simpletable\">\n",
       "<tr>\n",
       "               <td></td>                 <th>coef</th>     <th>std err</th>      <th>t</th>      <th>P>|t|</th> <th>[95.0% Conf. Int.]</th> \n",
       "</tr>\n",
       "<tr>\n",
       "  <th>Intercept</th>                  <td>    0.2583</td> <td>    0.026</td> <td>    9.893</td> <td> 0.000</td> <td>    0.207     0.309</td>\n",
       "</tr>\n",
       "<tr>\n",
       "  <th>Income[T.Income2]</th>          <td>    0.0367</td> <td>    0.001</td> <td>   38.930</td> <td> 0.000</td> <td>    0.035     0.038</td>\n",
       "</tr>\n",
       "<tr>\n",
       "  <th>Income[T.Income3]</th>          <td>    0.1109</td> <td>    0.001</td> <td>  117.760</td> <td> 0.000</td> <td>    0.109     0.113</td>\n",
       "</tr>\n",
       "<tr>\n",
       "  <th>DayofWeek[T.DayofWeek1]</th>    <td>   -0.0041</td> <td>    0.001</td> <td>   -2.860</td> <td> 0.004</td> <td>   -0.007    -0.001</td>\n",
       "</tr>\n",
       "<tr>\n",
       "  <th>DayofWeek[T.DayofWeek2]</th>    <td>   -0.0044</td> <td>    0.001</td> <td>   -3.035</td> <td> 0.002</td> <td>   -0.007    -0.002</td>\n",
       "</tr>\n",
       "<tr>\n",
       "  <th>DayofWeek[T.DayofWeek3]</th>    <td>   -0.0069</td> <td>    0.001</td> <td>   -4.795</td> <td> 0.000</td> <td>   -0.010    -0.004</td>\n",
       "</tr>\n",
       "<tr>\n",
       "  <th>DayofWeek[T.DayofWeek4]</th>    <td>   -0.0066</td> <td>    0.001</td> <td>   -4.628</td> <td> 0.000</td> <td>   -0.009    -0.004</td>\n",
       "</tr>\n",
       "<tr>\n",
       "  <th>DayofWeek[T.DayofWeek5]</th>    <td>    0.0039</td> <td>    0.001</td> <td>    2.682</td> <td> 0.007</td> <td>    0.001     0.007</td>\n",
       "</tr>\n",
       "<tr>\n",
       "  <th>DayofWeek[T.DayofWeek6]</th>    <td>    0.0227</td> <td>    0.001</td> <td>   15.818</td> <td> 0.000</td> <td>    0.020     0.026</td>\n",
       "</tr>\n",
       "<tr>\n",
       "  <th>Hour[T.Hour1]</th>              <td>    0.0285</td> <td>    0.003</td> <td>   10.613</td> <td> 0.000</td> <td>    0.023     0.034</td>\n",
       "</tr>\n",
       "<tr>\n",
       "  <th>Hour[T.Hour10]</th>             <td>    0.0899</td> <td>    0.003</td> <td>   33.341</td> <td> 0.000</td> <td>    0.085     0.095</td>\n",
       "</tr>\n",
       "<tr>\n",
       "  <th>Hour[T.Hour11]</th>             <td>    0.0915</td> <td>    0.003</td> <td>   33.783</td> <td> 0.000</td> <td>    0.086     0.097</td>\n",
       "</tr>\n",
       "<tr>\n",
       "  <th>Hour[T.Hour12]</th>             <td>    0.1013</td> <td>    0.003</td> <td>   37.043</td> <td> 0.000</td> <td>    0.096     0.107</td>\n",
       "</tr>\n",
       "<tr>\n",
       "  <th>Hour[T.Hour13]</th>             <td>    0.1042</td> <td>    0.003</td> <td>   37.953</td> <td> 0.000</td> <td>    0.099     0.110</td>\n",
       "</tr>\n",
       "<tr>\n",
       "  <th>Hour[T.Hour14]</th>             <td>    0.0944</td> <td>    0.003</td> <td>   34.300</td> <td> 0.000</td> <td>    0.089     0.100</td>\n",
       "</tr>\n",
       "<tr>\n",
       "  <th>Hour[T.Hour15]</th>             <td>    0.0935</td> <td>    0.003</td> <td>   34.021</td> <td> 0.000</td> <td>    0.088     0.099</td>\n",
       "</tr>\n",
       "<tr>\n",
       "  <th>Hour[T.Hour16]</th>             <td>    0.1215</td> <td>    0.003</td> <td>   44.320</td> <td> 0.000</td> <td>    0.116     0.127</td>\n",
       "</tr>\n",
       "<tr>\n",
       "  <th>Hour[T.Hour17]</th>             <td>    0.1876</td> <td>    0.003</td> <td>   68.856</td> <td> 0.000</td> <td>    0.182     0.193</td>\n",
       "</tr>\n",
       "<tr>\n",
       "  <th>Hour[T.Hour18]</th>             <td>    0.2597</td> <td>    0.003</td> <td>   95.841</td> <td> 0.000</td> <td>    0.254     0.265</td>\n",
       "</tr>\n",
       "<tr>\n",
       "  <th>Hour[T.Hour19]</th>             <td>    0.2973</td> <td>    0.003</td> <td>  110.403</td> <td> 0.000</td> <td>    0.292     0.303</td>\n",
       "</tr>\n",
       "<tr>\n",
       "  <th>Hour[T.Hour2]</th>              <td>   -0.0447</td> <td>    0.003</td> <td>  -16.672</td> <td> 0.000</td> <td>   -0.050    -0.039</td>\n",
       "</tr>\n",
       "<tr>\n",
       "  <th>Hour[T.Hour20]</th>             <td>    0.2939</td> <td>    0.003</td> <td>  109.605</td> <td> 0.000</td> <td>    0.289     0.299</td>\n",
       "</tr>\n",
       "<tr>\n",
       "  <th>Hour[T.Hour21]</th>             <td>    0.2662</td> <td>    0.003</td> <td>   99.450</td> <td> 0.000</td> <td>    0.261     0.271</td>\n",
       "</tr>\n",
       "<tr>\n",
       "  <th>Hour[T.Hour22]</th>             <td>    0.2068</td> <td>    0.003</td> <td>   77.311</td> <td> 0.000</td> <td>    0.202     0.212</td>\n",
       "</tr>\n",
       "<tr>\n",
       "  <th>Hour[T.Hour23]</th>             <td>    0.1058</td> <td>    0.003</td> <td>   39.554</td> <td> 0.000</td> <td>    0.101     0.111</td>\n",
       "</tr>\n",
       "<tr>\n",
       "  <th>Hour[T.Hour3]</th>              <td>   -0.0890</td> <td>    0.003</td> <td>  -33.147</td> <td> 0.000</td> <td>   -0.094    -0.084</td>\n",
       "</tr>\n",
       "<tr>\n",
       "  <th>Hour[T.Hour4]</th>              <td>   -0.1096</td> <td>    0.003</td> <td>  -40.646</td> <td> 0.000</td> <td>   -0.115    -0.104</td>\n",
       "</tr>\n",
       "<tr>\n",
       "  <th>Hour[T.Hour5]</th>              <td>   -0.1056</td> <td>    0.003</td> <td>  -39.289</td> <td> 0.000</td> <td>   -0.111    -0.100</td>\n",
       "</tr>\n",
       "<tr>\n",
       "  <th>Hour[T.Hour6]</th>              <td>   -0.0587</td> <td>    0.003</td> <td>  -21.847</td> <td> 0.000</td> <td>   -0.064    -0.053</td>\n",
       "</tr>\n",
       "<tr>\n",
       "  <th>Hour[T.Hour7]</th>              <td>    0.0212</td> <td>    0.003</td> <td>    7.935</td> <td> 0.000</td> <td>    0.016     0.026</td>\n",
       "</tr>\n",
       "<tr>\n",
       "  <th>Hour[T.Hour8]</th>              <td>    0.0667</td> <td>    0.003</td> <td>   24.961</td> <td> 0.000</td> <td>    0.061     0.072</td>\n",
       "</tr>\n",
       "<tr>\n",
       "  <th>Hour[T.Hour9]</th>              <td>    0.0893</td> <td>    0.003</td> <td>   33.365</td> <td> 0.000</td> <td>    0.084     0.095</td>\n",
       "</tr>\n",
       "<tr>\n",
       "  <th>WeekofYear[T.WeekofYear10]</th> <td>   -0.0234</td> <td>    0.004</td> <td>   -6.152</td> <td> 0.000</td> <td>   -0.031    -0.016</td>\n",
       "</tr>\n",
       "<tr>\n",
       "  <th>WeekofYear[T.WeekofYear11]</th> <td>   -0.0691</td> <td>    0.004</td> <td>  -18.207</td> <td> 0.000</td> <td>   -0.077    -0.062</td>\n",
       "</tr>\n",
       "<tr>\n",
       "  <th>WeekofYear[T.WeekofYear12]</th> <td>   -0.0860</td> <td>    0.004</td> <td>  -22.366</td> <td> 0.000</td> <td>   -0.094    -0.079</td>\n",
       "</tr>\n",
       "<tr>\n",
       "  <th>WeekofYear[T.WeekofYear13]</th> <td>   -0.1095</td> <td>    0.004</td> <td>  -28.357</td> <td> 0.000</td> <td>   -0.117    -0.102</td>\n",
       "</tr>\n",
       "<tr>\n",
       "  <th>WeekofYear[T.WeekofYear14]</th> <td>   -0.1015</td> <td>    0.004</td> <td>  -26.686</td> <td> 0.000</td> <td>   -0.109    -0.094</td>\n",
       "</tr>\n",
       "<tr>\n",
       "  <th>WeekofYear[T.WeekofYear15]</th> <td>   -0.1036</td> <td>    0.004</td> <td>  -27.206</td> <td> 0.000</td> <td>   -0.111    -0.096</td>\n",
       "</tr>\n",
       "<tr>\n",
       "  <th>WeekofYear[T.WeekofYear16]</th> <td>   -0.0970</td> <td>    0.004</td> <td>  -25.553</td> <td> 0.000</td> <td>   -0.104    -0.090</td>\n",
       "</tr>\n",
       "<tr>\n",
       "  <th>WeekofYear[T.WeekofYear17]</th> <td>   -0.0953</td> <td>    0.004</td> <td>  -25.124</td> <td> 0.000</td> <td>   -0.103    -0.088</td>\n",
       "</tr>\n",
       "<tr>\n",
       "  <th>WeekofYear[T.WeekofYear18]</th> <td>   -0.1104</td> <td>    0.004</td> <td>  -29.006</td> <td> 0.000</td> <td>   -0.118    -0.103</td>\n",
       "</tr>\n",
       "<tr>\n",
       "  <th>WeekofYear[T.WeekofYear19]</th> <td>   -0.1132</td> <td>    0.004</td> <td>  -29.139</td> <td> 0.000</td> <td>   -0.121    -0.106</td>\n",
       "</tr>\n",
       "<tr>\n",
       "  <th>WeekofYear[T.WeekofYear2]</th>  <td>   -0.0107</td> <td>    0.004</td> <td>   -2.767</td> <td> 0.006</td> <td>   -0.018    -0.003</td>\n",
       "</tr>\n",
       "<tr>\n",
       "  <th>WeekofYear[T.WeekofYear20]</th> <td>   -0.1318</td> <td>    0.004</td> <td>  -34.539</td> <td> 0.000</td> <td>   -0.139    -0.124</td>\n",
       "</tr>\n",
       "<tr>\n",
       "  <th>WeekofYear[T.WeekofYear21]</th> <td>   -0.1235</td> <td>    0.004</td> <td>  -29.336</td> <td> 0.000</td> <td>   -0.132    -0.115</td>\n",
       "</tr>\n",
       "<tr>\n",
       "  <th>WeekofYear[T.WeekofYear22]</th> <td>   -0.1339</td> <td>    0.004</td> <td>  -33.038</td> <td> 0.000</td> <td>   -0.142    -0.126</td>\n",
       "</tr>\n",
       "<tr>\n",
       "  <th>WeekofYear[T.WeekofYear23]</th> <td>   -0.1301</td> <td>    0.004</td> <td>  -33.212</td> <td> 0.000</td> <td>   -0.138    -0.122</td>\n",
       "</tr>\n",
       "<tr>\n",
       "  <th>WeekofYear[T.WeekofYear24]</th> <td>   -0.1267</td> <td>    0.004</td> <td>  -32.320</td> <td> 0.000</td> <td>   -0.134    -0.119</td>\n",
       "</tr>\n",
       "<tr>\n",
       "  <th>WeekofYear[T.WeekofYear25]</th> <td>   -0.1352</td> <td>    0.004</td> <td>  -33.746</td> <td> 0.000</td> <td>   -0.143    -0.127</td>\n",
       "</tr>\n",
       "<tr>\n",
       "  <th>WeekofYear[T.WeekofYear26]</th> <td>   -0.1275</td> <td>    0.004</td> <td>  -30.757</td> <td> 0.000</td> <td>   -0.136    -0.119</td>\n",
       "</tr>\n",
       "<tr>\n",
       "  <th>WeekofYear[T.WeekofYear27]</th> <td>   -0.1259</td> <td>    0.004</td> <td>  -30.858</td> <td> 0.000</td> <td>   -0.134    -0.118</td>\n",
       "</tr>\n",
       "<tr>\n",
       "  <th>WeekofYear[T.WeekofYear28]</th> <td>   -0.1359</td> <td>    0.004</td> <td>  -34.032</td> <td> 0.000</td> <td>   -0.144    -0.128</td>\n",
       "</tr>\n",
       "<tr>\n",
       "  <th>WeekofYear[T.WeekofYear29]</th> <td>   -0.1349</td> <td>    0.004</td> <td>  -33.114</td> <td> 0.000</td> <td>   -0.143    -0.127</td>\n",
       "</tr>\n",
       "<tr>\n",
       "  <th>WeekofYear[T.WeekofYear3]</th>  <td>    0.0069</td> <td>    0.004</td> <td>    1.810</td> <td> 0.070</td> <td>   -0.001     0.014</td>\n",
       "</tr>\n",
       "<tr>\n",
       "  <th>WeekofYear[T.WeekofYear30]</th> <td>   -0.1272</td> <td>    0.004</td> <td>  -29.725</td> <td> 0.000</td> <td>   -0.136    -0.119</td>\n",
       "</tr>\n",
       "<tr>\n",
       "  <th>WeekofYear[T.WeekofYear31]</th> <td>   -0.1376</td> <td>    0.004</td> <td>  -33.640</td> <td> 0.000</td> <td>   -0.146    -0.130</td>\n",
       "</tr>\n",
       "<tr>\n",
       "  <th>WeekofYear[T.WeekofYear32]</th> <td>   -0.1301</td> <td>    0.004</td> <td>  -30.843</td> <td> 0.000</td> <td>   -0.138    -0.122</td>\n",
       "</tr>\n",
       "<tr>\n",
       "  <th>WeekofYear[T.WeekofYear33]</th> <td>   -0.1235</td> <td>    0.004</td> <td>  -28.132</td> <td> 0.000</td> <td>   -0.132    -0.115</td>\n",
       "</tr>\n",
       "<tr>\n",
       "  <th>WeekofYear[T.WeekofYear34]</th> <td>   -0.1391</td> <td>    0.004</td> <td>  -33.533</td> <td> 0.000</td> <td>   -0.147    -0.131</td>\n",
       "</tr>\n",
       "<tr>\n",
       "  <th>WeekofYear[T.WeekofYear35]</th> <td>   -0.1361</td> <td>    0.004</td> <td>  -33.835</td> <td> 0.000</td> <td>   -0.144    -0.128</td>\n",
       "</tr>\n",
       "<tr>\n",
       "  <th>WeekofYear[T.WeekofYear36]</th> <td>   -0.1322</td> <td>    0.004</td> <td>  -31.766</td> <td> 0.000</td> <td>   -0.140    -0.124</td>\n",
       "</tr>\n",
       "<tr>\n",
       "  <th>WeekofYear[T.WeekofYear37]</th> <td>   -0.1362</td> <td>    0.004</td> <td>  -34.107</td> <td> 0.000</td> <td>   -0.144    -0.128</td>\n",
       "</tr>\n",
       "<tr>\n",
       "  <th>WeekofYear[T.WeekofYear38]</th> <td>   -0.1308</td> <td>    0.004</td> <td>  -33.764</td> <td> 0.000</td> <td>   -0.138    -0.123</td>\n",
       "</tr>\n",
       "<tr>\n",
       "  <th>WeekofYear[T.WeekofYear39]</th> <td>   -0.1100</td> <td>    0.004</td> <td>  -28.453</td> <td> 0.000</td> <td>   -0.118    -0.102</td>\n",
       "</tr>\n",
       "<tr>\n",
       "  <th>WeekofYear[T.WeekofYear4]</th>  <td>   -0.0029</td> <td>    0.004</td> <td>   -0.761</td> <td> 0.447</td> <td>   -0.010     0.005</td>\n",
       "</tr>\n",
       "<tr>\n",
       "  <th>WeekofYear[T.WeekofYear40]</th> <td>   -0.1071</td> <td>    0.004</td> <td>  -27.798</td> <td> 0.000</td> <td>   -0.115    -0.100</td>\n",
       "</tr>\n",
       "<tr>\n",
       "  <th>WeekofYear[T.WeekofYear41]</th> <td>   -0.0969</td> <td>    0.004</td> <td>  -25.335</td> <td> 0.000</td> <td>   -0.104    -0.089</td>\n",
       "</tr>\n",
       "<tr>\n",
       "  <th>WeekofYear[T.WeekofYear42]</th> <td>   -0.0848</td> <td>    0.004</td> <td>  -21.856</td> <td> 0.000</td> <td>   -0.092    -0.077</td>\n",
       "</tr>\n",
       "<tr>\n",
       "  <th>WeekofYear[T.WeekofYear43]</th> <td>   -0.0732</td> <td>    0.004</td> <td>  -19.166</td> <td> 0.000</td> <td>   -0.081    -0.066</td>\n",
       "</tr>\n",
       "<tr>\n",
       "  <th>WeekofYear[T.WeekofYear44]</th> <td>   -0.0646</td> <td>    0.004</td> <td>  -17.033</td> <td> 0.000</td> <td>   -0.072    -0.057</td>\n",
       "</tr>\n",
       "<tr>\n",
       "  <th>WeekofYear[T.WeekofYear45]</th> <td>   -0.0549</td> <td>    0.004</td> <td>  -14.327</td> <td> 0.000</td> <td>   -0.062    -0.047</td>\n",
       "</tr>\n",
       "<tr>\n",
       "  <th>WeekofYear[T.WeekofYear46]</th> <td>   -0.0539</td> <td>    0.004</td> <td>  -14.024</td> <td> 0.000</td> <td>   -0.061    -0.046</td>\n",
       "</tr>\n",
       "<tr>\n",
       "  <th>WeekofYear[T.WeekofYear47]</th> <td>   -0.0447</td> <td>    0.004</td> <td>  -11.700</td> <td> 0.000</td> <td>   -0.052    -0.037</td>\n",
       "</tr>\n",
       "<tr>\n",
       "  <th>WeekofYear[T.WeekofYear48]</th> <td>   -0.0310</td> <td>    0.004</td> <td>   -7.985</td> <td> 0.000</td> <td>   -0.039    -0.023</td>\n",
       "</tr>\n",
       "<tr>\n",
       "  <th>WeekofYear[T.WeekofYear49]</th> <td>   -0.0123</td> <td>    0.004</td> <td>   -3.168</td> <td> 0.002</td> <td>   -0.020    -0.005</td>\n",
       "</tr>\n",
       "<tr>\n",
       "  <th>WeekofYear[T.WeekofYear5]</th>  <td>    0.0356</td> <td>    0.004</td> <td>    8.353</td> <td> 0.000</td> <td>    0.027     0.044</td>\n",
       "</tr>\n",
       "<tr>\n",
       "  <th>WeekofYear[T.WeekofYear50]</th> <td>   -0.0091</td> <td>    0.004</td> <td>   -2.294</td> <td> 0.022</td> <td>   -0.017    -0.001</td>\n",
       "</tr>\n",
       "<tr>\n",
       "  <th>WeekofYear[T.WeekofYear51]</th> <td>   -0.0266</td> <td>    0.004</td> <td>   -6.975</td> <td> 0.000</td> <td>   -0.034    -0.019</td>\n",
       "</tr>\n",
       "<tr>\n",
       "  <th>WeekofYear[T.WeekofYear52]</th> <td>   -0.0274</td> <td>    0.004</td> <td>   -7.482</td> <td> 0.000</td> <td>   -0.035    -0.020</td>\n",
       "</tr>\n",
       "<tr>\n",
       "  <th>WeekofYear[T.WeekofYear6]</th>  <td>    0.0445</td> <td>    0.004</td> <td>   10.357</td> <td> 0.000</td> <td>    0.036     0.053</td>\n",
       "</tr>\n",
       "<tr>\n",
       "  <th>WeekofYear[T.WeekofYear7]</th>  <td>    0.0030</td> <td>    0.004</td> <td>    0.794</td> <td> 0.427</td> <td>   -0.004     0.010</td>\n",
       "</tr>\n",
       "<tr>\n",
       "  <th>WeekofYear[T.WeekofYear8]</th>  <td>   -0.0176</td> <td>    0.004</td> <td>   -4.613</td> <td> 0.000</td> <td>   -0.025    -0.010</td>\n",
       "</tr>\n",
       "<tr>\n",
       "  <th>WeekofYear[T.WeekofYear9]</th>  <td>   -0.0393</td> <td>    0.004</td> <td>  -10.294</td> <td> 0.000</td> <td>   -0.047    -0.032</td>\n",
       "</tr>\n",
       "<tr>\n",
       "  <th>np.power(Temperature_F, 3)</th> <td> 1.608e-06</td> <td> 1.75e-07</td> <td>    9.211</td> <td> 0.000</td> <td> 1.27e-06  1.95e-06</td>\n",
       "</tr>\n",
       "<tr>\n",
       "  <th>np.power(Temperature_F, 2)</th> <td>   -0.0003</td> <td> 2.85e-05</td> <td>   -9.491</td> <td> 0.000</td> <td>   -0.000    -0.000</td>\n",
       "</tr>\n",
       "<tr>\n",
       "  <th>Temperature_F</th>              <td>    0.0118</td> <td>    0.001</td> <td>    7.901</td> <td> 0.000</td> <td>    0.009     0.015</td>\n",
       "</tr>\n",
       "</table>\n",
       "<table class=\"simpletable\">\n",
       "<tr>\n",
       "  <th>Omnibus:</th>       <td>2774.450</td> <th>  Durbin-Watson:     </th> <td>   1.021</td>\n",
       "</tr>\n",
       "<tr>\n",
       "  <th>Prob(Omnibus):</th>  <td> 0.000</td>  <th>  Jarque-Bera (JB):  </th> <td>6530.190</td>\n",
       "</tr>\n",
       "<tr>\n",
       "  <th>Skew:</th>           <td> 0.643</td>  <th>  Prob(JB):          </th> <td>    0.00</td>\n",
       "</tr>\n",
       "<tr>\n",
       "  <th>Kurtosis:</th>       <td> 5.093</td>  <th>  Cond. No.          </th> <td>1.29e+07</td>\n",
       "</tr>\n",
       "</table>"
      ],
      "text/plain": [
       "<class 'statsmodels.iolib.summary.Summary'>\n",
       "\"\"\"\n",
       "                            OLS Regression Results                            \n",
       "==============================================================================\n",
       "Dep. Variable:            Consumption   R-squared:                       0.845\n",
       "Model:                            OLS   Adj. R-squared:                  0.844\n",
       "Method:                 Least Squares   F-statistic:                     1658.\n",
       "Date:                Mon, 12 Dec 2016   Prob (F-statistic):               0.00\n",
       "Time:                        02:06:15   Log-Likelihood:                 35437.\n",
       "No. Observations:               25977   AIC:                        -7.070e+04\n",
       "Df Residuals:                   25891   BIC:                        -7.000e+04\n",
       "Df Model:                          85                                         \n",
       "Covariance Type:            nonrobust                                         \n",
       "==============================================================================================\n",
       "                                 coef    std err          t      P>|t|      [95.0% Conf. Int.]\n",
       "----------------------------------------------------------------------------------------------\n",
       "Intercept                      0.2583      0.026      9.893      0.000         0.207     0.309\n",
       "Income[T.Income2]              0.0367      0.001     38.930      0.000         0.035     0.038\n",
       "Income[T.Income3]              0.1109      0.001    117.760      0.000         0.109     0.113\n",
       "DayofWeek[T.DayofWeek1]       -0.0041      0.001     -2.860      0.004        -0.007    -0.001\n",
       "DayofWeek[T.DayofWeek2]       -0.0044      0.001     -3.035      0.002        -0.007    -0.002\n",
       "DayofWeek[T.DayofWeek3]       -0.0069      0.001     -4.795      0.000        -0.010    -0.004\n",
       "DayofWeek[T.DayofWeek4]       -0.0066      0.001     -4.628      0.000        -0.009    -0.004\n",
       "DayofWeek[T.DayofWeek5]        0.0039      0.001      2.682      0.007         0.001     0.007\n",
       "DayofWeek[T.DayofWeek6]        0.0227      0.001     15.818      0.000         0.020     0.026\n",
       "Hour[T.Hour1]                  0.0285      0.003     10.613      0.000         0.023     0.034\n",
       "Hour[T.Hour10]                 0.0899      0.003     33.341      0.000         0.085     0.095\n",
       "Hour[T.Hour11]                 0.0915      0.003     33.783      0.000         0.086     0.097\n",
       "Hour[T.Hour12]                 0.1013      0.003     37.043      0.000         0.096     0.107\n",
       "Hour[T.Hour13]                 0.1042      0.003     37.953      0.000         0.099     0.110\n",
       "Hour[T.Hour14]                 0.0944      0.003     34.300      0.000         0.089     0.100\n",
       "Hour[T.Hour15]                 0.0935      0.003     34.021      0.000         0.088     0.099\n",
       "Hour[T.Hour16]                 0.1215      0.003     44.320      0.000         0.116     0.127\n",
       "Hour[T.Hour17]                 0.1876      0.003     68.856      0.000         0.182     0.193\n",
       "Hour[T.Hour18]                 0.2597      0.003     95.841      0.000         0.254     0.265\n",
       "Hour[T.Hour19]                 0.2973      0.003    110.403      0.000         0.292     0.303\n",
       "Hour[T.Hour2]                 -0.0447      0.003    -16.672      0.000        -0.050    -0.039\n",
       "Hour[T.Hour20]                 0.2939      0.003    109.605      0.000         0.289     0.299\n",
       "Hour[T.Hour21]                 0.2662      0.003     99.450      0.000         0.261     0.271\n",
       "Hour[T.Hour22]                 0.2068      0.003     77.311      0.000         0.202     0.212\n",
       "Hour[T.Hour23]                 0.1058      0.003     39.554      0.000         0.101     0.111\n",
       "Hour[T.Hour3]                 -0.0890      0.003    -33.147      0.000        -0.094    -0.084\n",
       "Hour[T.Hour4]                 -0.1096      0.003    -40.646      0.000        -0.115    -0.104\n",
       "Hour[T.Hour5]                 -0.1056      0.003    -39.289      0.000        -0.111    -0.100\n",
       "Hour[T.Hour6]                 -0.0587      0.003    -21.847      0.000        -0.064    -0.053\n",
       "Hour[T.Hour7]                  0.0212      0.003      7.935      0.000         0.016     0.026\n",
       "Hour[T.Hour8]                  0.0667      0.003     24.961      0.000         0.061     0.072\n",
       "Hour[T.Hour9]                  0.0893      0.003     33.365      0.000         0.084     0.095\n",
       "WeekofYear[T.WeekofYear10]    -0.0234      0.004     -6.152      0.000        -0.031    -0.016\n",
       "WeekofYear[T.WeekofYear11]    -0.0691      0.004    -18.207      0.000        -0.077    -0.062\n",
       "WeekofYear[T.WeekofYear12]    -0.0860      0.004    -22.366      0.000        -0.094    -0.079\n",
       "WeekofYear[T.WeekofYear13]    -0.1095      0.004    -28.357      0.000        -0.117    -0.102\n",
       "WeekofYear[T.WeekofYear14]    -0.1015      0.004    -26.686      0.000        -0.109    -0.094\n",
       "WeekofYear[T.WeekofYear15]    -0.1036      0.004    -27.206      0.000        -0.111    -0.096\n",
       "WeekofYear[T.WeekofYear16]    -0.0970      0.004    -25.553      0.000        -0.104    -0.090\n",
       "WeekofYear[T.WeekofYear17]    -0.0953      0.004    -25.124      0.000        -0.103    -0.088\n",
       "WeekofYear[T.WeekofYear18]    -0.1104      0.004    -29.006      0.000        -0.118    -0.103\n",
       "WeekofYear[T.WeekofYear19]    -0.1132      0.004    -29.139      0.000        -0.121    -0.106\n",
       "WeekofYear[T.WeekofYear2]     -0.0107      0.004     -2.767      0.006        -0.018    -0.003\n",
       "WeekofYear[T.WeekofYear20]    -0.1318      0.004    -34.539      0.000        -0.139    -0.124\n",
       "WeekofYear[T.WeekofYear21]    -0.1235      0.004    -29.336      0.000        -0.132    -0.115\n",
       "WeekofYear[T.WeekofYear22]    -0.1339      0.004    -33.038      0.000        -0.142    -0.126\n",
       "WeekofYear[T.WeekofYear23]    -0.1301      0.004    -33.212      0.000        -0.138    -0.122\n",
       "WeekofYear[T.WeekofYear24]    -0.1267      0.004    -32.320      0.000        -0.134    -0.119\n",
       "WeekofYear[T.WeekofYear25]    -0.1352      0.004    -33.746      0.000        -0.143    -0.127\n",
       "WeekofYear[T.WeekofYear26]    -0.1275      0.004    -30.757      0.000        -0.136    -0.119\n",
       "WeekofYear[T.WeekofYear27]    -0.1259      0.004    -30.858      0.000        -0.134    -0.118\n",
       "WeekofYear[T.WeekofYear28]    -0.1359      0.004    -34.032      0.000        -0.144    -0.128\n",
       "WeekofYear[T.WeekofYear29]    -0.1349      0.004    -33.114      0.000        -0.143    -0.127\n",
       "WeekofYear[T.WeekofYear3]      0.0069      0.004      1.810      0.070        -0.001     0.014\n",
       "WeekofYear[T.WeekofYear30]    -0.1272      0.004    -29.725      0.000        -0.136    -0.119\n",
       "WeekofYear[T.WeekofYear31]    -0.1376      0.004    -33.640      0.000        -0.146    -0.130\n",
       "WeekofYear[T.WeekofYear32]    -0.1301      0.004    -30.843      0.000        -0.138    -0.122\n",
       "WeekofYear[T.WeekofYear33]    -0.1235      0.004    -28.132      0.000        -0.132    -0.115\n",
       "WeekofYear[T.WeekofYear34]    -0.1391      0.004    -33.533      0.000        -0.147    -0.131\n",
       "WeekofYear[T.WeekofYear35]    -0.1361      0.004    -33.835      0.000        -0.144    -0.128\n",
       "WeekofYear[T.WeekofYear36]    -0.1322      0.004    -31.766      0.000        -0.140    -0.124\n",
       "WeekofYear[T.WeekofYear37]    -0.1362      0.004    -34.107      0.000        -0.144    -0.128\n",
       "WeekofYear[T.WeekofYear38]    -0.1308      0.004    -33.764      0.000        -0.138    -0.123\n",
       "WeekofYear[T.WeekofYear39]    -0.1100      0.004    -28.453      0.000        -0.118    -0.102\n",
       "WeekofYear[T.WeekofYear4]     -0.0029      0.004     -0.761      0.447        -0.010     0.005\n",
       "WeekofYear[T.WeekofYear40]    -0.1071      0.004    -27.798      0.000        -0.115    -0.100\n",
       "WeekofYear[T.WeekofYear41]    -0.0969      0.004    -25.335      0.000        -0.104    -0.089\n",
       "WeekofYear[T.WeekofYear42]    -0.0848      0.004    -21.856      0.000        -0.092    -0.077\n",
       "WeekofYear[T.WeekofYear43]    -0.0732      0.004    -19.166      0.000        -0.081    -0.066\n",
       "WeekofYear[T.WeekofYear44]    -0.0646      0.004    -17.033      0.000        -0.072    -0.057\n",
       "WeekofYear[T.WeekofYear45]    -0.0549      0.004    -14.327      0.000        -0.062    -0.047\n",
       "WeekofYear[T.WeekofYear46]    -0.0539      0.004    -14.024      0.000        -0.061    -0.046\n",
       "WeekofYear[T.WeekofYear47]    -0.0447      0.004    -11.700      0.000        -0.052    -0.037\n",
       "WeekofYear[T.WeekofYear48]    -0.0310      0.004     -7.985      0.000        -0.039    -0.023\n",
       "WeekofYear[T.WeekofYear49]    -0.0123      0.004     -3.168      0.002        -0.020    -0.005\n",
       "WeekofYear[T.WeekofYear5]      0.0356      0.004      8.353      0.000         0.027     0.044\n",
       "WeekofYear[T.WeekofYear50]    -0.0091      0.004     -2.294      0.022        -0.017    -0.001\n",
       "WeekofYear[T.WeekofYear51]    -0.0266      0.004     -6.975      0.000        -0.034    -0.019\n",
       "WeekofYear[T.WeekofYear52]    -0.0274      0.004     -7.482      0.000        -0.035    -0.020\n",
       "WeekofYear[T.WeekofYear6]      0.0445      0.004     10.357      0.000         0.036     0.053\n",
       "WeekofYear[T.WeekofYear7]      0.0030      0.004      0.794      0.427        -0.004     0.010\n",
       "WeekofYear[T.WeekofYear8]     -0.0176      0.004     -4.613      0.000        -0.025    -0.010\n",
       "WeekofYear[T.WeekofYear9]     -0.0393      0.004    -10.294      0.000        -0.047    -0.032\n",
       "np.power(Temperature_F, 3)  1.608e-06   1.75e-07      9.211      0.000      1.27e-06  1.95e-06\n",
       "np.power(Temperature_F, 2)    -0.0003   2.85e-05     -9.491      0.000        -0.000    -0.000\n",
       "Temperature_F                  0.0118      0.001      7.901      0.000         0.009     0.015\n",
       "==============================================================================\n",
       "Omnibus:                     2774.450   Durbin-Watson:                   1.021\n",
       "Prob(Omnibus):                  0.000   Jarque-Bera (JB):             6530.190\n",
       "Skew:                           0.643   Prob(JB):                         0.00\n",
       "Kurtosis:                       5.093   Cond. No.                     1.29e+07\n",
       "==============================================================================\n",
       "\n",
       "Warnings:\n",
       "[1] Standard Errors assume that the covariance matrix of the errors is correctly specified.\n",
       "[2] The condition number is large, 1.29e+07. This might indicate that there are\n",
       "strong multicollinearity or other numerical problems.\n",
       "\"\"\""
      ]
     },
     "execution_count": 287,
     "metadata": {},
     "output_type": "execute_result"
    }
   ],
   "source": [
    "# linear regression model\n",
    "equation = \"Consumption ~ np.power(Temperature_F, 3) + np.power(Temperature_F, 2) + Temperature_F + Income + DayofWeek + Hour + WeekofYear\"\n",
    "\n",
    "lm_ref = smf.ols(formula = equation, data = train).fit()\n",
    "lm_ref.summary()"
   ]
  },
  {
   "cell_type": "code",
   "execution_count": 288,
   "metadata": {
    "collapsed": false
   },
   "outputs": [
    {
     "data": {
      "text/plain": [
       "86"
      ]
     },
     "execution_count": 288,
     "metadata": {},
     "output_type": "execute_result"
    }
   ],
   "source": [
    "len(lm_ref.params)"
   ]
  },
  {
   "cell_type": "code",
   "execution_count": 289,
   "metadata": {
    "collapsed": false
   },
   "outputs": [
    {
     "name": "stdout",
     "output_type": "stream",
     "text": [
      "0.136879299405\n"
     ]
    }
   ],
   "source": [
    "# predicting\n",
    "prediction = lm_ref.predict(valid.iloc[:,2:12])\n",
    "\n",
    "# MAPE\n",
    "MAPE = np.mean(abs((prediction - valid.Consumption)/valid.Consumption))\n",
    "\n",
    "print MAPE"
   ]
  },
  {
   "cell_type": "code",
   "execution_count": 290,
   "metadata": {
    "collapsed": false
   },
   "outputs": [
    {
     "name": "stdout",
     "output_type": "stream",
     "text": [
      "REFERENCE\n",
      "Adj.R-squared = 0.844305841234    MAPE = 0.136879299405\n"
     ]
    }
   ],
   "source": [
    "ref_R2adj = lm_ref.rsquared_adj\n",
    "ref_MAPE = MAPE\n",
    "\n",
    "print \"REFERENCE\"\n",
    "print \"Adj.R-squared = {0}    MAPE = {1}\".format(ref_R2adj, ref_MAPE) "
   ]
  },
  {
   "cell_type": "code",
   "execution_count": 291,
   "metadata": {
    "collapsed": true
   },
   "outputs": [],
   "source": [
    "models = ['Reference (cubic temperature, no wind or humidity)']\n",
    "equations = [equation]\n",
    "AdjR2 = [ref_R2adj]\n",
    "MAPE_ = [ref_MAPE]\n",
    "LR = ['-']"
   ]
  },
  {
   "cell_type": "markdown",
   "metadata": {},
   "source": [
    "## Tests"
   ]
  },
  {
   "cell_type": "markdown",
   "metadata": {},
   "source": [
    "## 1 - Temperature^0"
   ]
  },
  {
   "cell_type": "code",
   "execution_count": 292,
   "metadata": {
    "collapsed": false
   },
   "outputs": [
    {
     "name": "stdout",
     "output_type": "stream",
     "text": [
      "Adj.R-squared = 0.837939201782    MAPE = 0.146843515558\n",
      "       Change: -0.00636663945108    Change: 0.00996421615288  LR:(1044.116003744828, 4.839721152429259e-226, 3.0)\n"
     ]
    }
   ],
   "source": [
    "# linear regression model\n",
    "equation = \"Consumption ~ Income + DayofWeek + Hour + WeekofYear\"\n",
    "\n",
    "lm = smf.ols(formula = equation, data = train).fit()\n",
    "\n",
    "# predicting\n",
    "prediction = lm.predict(valid.iloc[:,2:12])\n",
    "\n",
    "# MAPE\n",
    "MAPE = np.mean(abs((prediction - valid.Consumption)/valid.Consumption))\n",
    "\n",
    "models.append('Taking out Temperature')\n",
    "equations.append(equation)\n",
    "AdjR2.append(lm.rsquared_adj)\n",
    "MAPE_.append(MAPE)\n",
    "LR.append(lm_ref.compare_lr_test(lm))\n",
    "\n",
    "print \"Adj.R-squared = {0}    MAPE = {1}\".format(lm.rsquared_adj, MAPE)\n",
    "print \"       Change: {0}    Change: {1}  LR:{2}\".format(lm.rsquared_adj - ref_R2adj, MAPE - ref_MAPE, LR[-1])"
   ]
  },
  {
   "cell_type": "markdown",
   "metadata": {},
   "source": [
    "## 2 - Temperature^1"
   ]
  },
  {
   "cell_type": "code",
   "execution_count": 293,
   "metadata": {
    "collapsed": false
   },
   "outputs": [
    {
     "name": "stdout",
     "output_type": "stream",
     "text": [
      "Adj.R-squared = 0.843752897203    MAPE = 0.13727028037\n",
      "       Change: -0.000552944030912    Change: 0.000390980965163  LR:(94.099814721645089, 3.685401931643193e-21, 2.0)\n"
     ]
    }
   ],
   "source": [
    "# linear regression model\n",
    "equation = \"Consumption ~ Income + Temperature_F + DayofWeek + Hour + WeekofYear\"\n",
    "\n",
    "lm = smf.ols(formula = equation, data = train).fit()\n",
    "\n",
    "# predicting\n",
    "prediction = lm.predict(valid.iloc[:,2:12])\n",
    "\n",
    "# MAPE\n",
    "MAPE = np.mean(abs((prediction - valid.Consumption)/valid.Consumption))\n",
    "\n",
    "models.append('Linear Temperature')\n",
    "equations.append(equation)\n",
    "AdjR2.append(lm.rsquared_adj)\n",
    "MAPE_.append(MAPE)\n",
    "LR.append(lm_ref.compare_lr_test(lm))\n",
    "\n",
    "print \"Adj.R-squared = {0}    MAPE = {1}\".format(lm.rsquared_adj, MAPE)\n",
    "print \"       Change: {0}    Change: {1}  LR:{2}\".format(lm.rsquared_adj - ref_R2adj, MAPE - ref_MAPE, LR[-1])"
   ]
  },
  {
   "cell_type": "markdown",
   "metadata": {},
   "source": [
    "## 3 - Temperature^2"
   ]
  },
  {
   "cell_type": "code",
   "execution_count": 294,
   "metadata": {
    "collapsed": false
   },
   "outputs": [
    {
     "name": "stdout",
     "output_type": "stream",
     "text": [
      "Adj.R-squared = 0.843801673244    MAPE = 0.137467994139\n",
      "       Change: -0.000504167989653    Change: 0.000588694733869  LR:(84.985981418314623, 3.0048797885743721e-20, 1.0)\n"
     ]
    }
   ],
   "source": [
    "# linear regression model\n",
    "equation = \"Consumption ~ Income + np.power(Temperature_F,2) + Temperature_F + DayofWeek + Hour + WeekofYear\"\n",
    "\n",
    "lm = smf.ols(formula = equation, data = train).fit()\n",
    "\n",
    "# predicting\n",
    "prediction = lm.predict(valid.iloc[:,2:12])\n",
    "\n",
    "# MAPE\n",
    "MAPE = np.mean(abs((prediction - valid.Consumption)/valid.Consumption))\n",
    "\n",
    "models.append('Quadratic Temperature')\n",
    "equations.append(equation)\n",
    "AdjR2.append(lm.rsquared_adj)\n",
    "MAPE_.append(MAPE)\n",
    "LR.append(lm_ref.compare_lr_test(lm))\n",
    "\n",
    "print \"Adj.R-squared = {0}    MAPE = {1}\".format(lm.rsquared_adj, MAPE)\n",
    "print \"       Change: {0}    Change: {1}  LR:{2}\".format(lm.rsquared_adj - ref_R2adj, MAPE - ref_MAPE, LR[-1])"
   ]
  },
  {
   "cell_type": "markdown",
   "metadata": {},
   "source": [
    "## 4 - Temperature^3 + wind + humidity"
   ]
  },
  {
   "cell_type": "code",
   "execution_count": 295,
   "metadata": {
    "collapsed": false
   },
   "outputs": [
    {
     "name": "stdout",
     "output_type": "stream",
     "text": [
      "Adj.R-squared = 0.846311942523    MAPE = 0.136598808823\n",
      "       Change: 0.00200610128986    Change: -0.000280490581772  LR:(338.89242940195254, 2.5730248225802146e-74, 2.0)\n"
     ]
    }
   ],
   "source": [
    "# linear regression model\n",
    "equation = \"Consumption ~ Income + Wind_Speed_MPH + Humidity + np.power(Temperature_F,3) + np.power(Temperature_F,2) + Temperature_F + DayofWeek + Hour + WeekofYear\"\n",
    "\n",
    "lm = smf.ols(formula = equation, data = train).fit()\n",
    "\n",
    "# predicting\n",
    "prediction = lm.predict(valid.iloc[:,2:12])\n",
    "\n",
    "# MAPE\n",
    "MAPE = np.mean(abs((prediction - valid.Consumption)/valid.Consumption))\n",
    "\n",
    "models.append('Cubic Temperature + wind + humidity')\n",
    "equations.append(equation)\n",
    "AdjR2.append(lm.rsquared_adj)\n",
    "MAPE_.append(MAPE)\n",
    "LR.append(lm.compare_lr_test(lm_ref))\n",
    "\n",
    "print \"Adj.R-squared = {0}    MAPE = {1}\".format(lm.rsquared_adj, MAPE)\n",
    "print \"       Change: {0}    Change: {1}  LR:{2}\".format(lm.rsquared_adj - ref_R2adj, MAPE - ref_MAPE, LR[-1])"
   ]
  },
  {
   "cell_type": "code",
   "execution_count": 296,
   "metadata": {
    "collapsed": false
   },
   "outputs": [
    {
     "data": {
      "text/plain": [
       "(338.89242940195254, 2.5730248225802146e-74, 2.0)"
      ]
     },
     "execution_count": 296,
     "metadata": {},
     "output_type": "execute_result"
    }
   ],
   "source": [
    "lm.compare_lr_test(lm_ref)"
   ]
  },
  {
   "cell_type": "markdown",
   "metadata": {},
   "source": [
    "## 5 - Taking out Income"
   ]
  },
  {
   "cell_type": "code",
   "execution_count": 297,
   "metadata": {
    "collapsed": false
   },
   "outputs": [
    {
     "name": "stdout",
     "output_type": "stream",
     "text": [
      "Adj.R-squared = 0.757742118858    MAPE = 0.166464276911\n",
      "       Change: -0.0865637223758    Change: 0.0295849775064  LR:(11486.677803586004, 0.0, 2.0)\n"
     ]
    }
   ],
   "source": [
    "# linear regression model\n",
    "equation = \"Consumption ~ np.power(Temperature_F,3) + np.power(Temperature_F,2) + Temperature_F + DayofWeek + Hour + WeekofYear\"\n",
    "\n",
    "lm = smf.ols(formula = equation, data = train).fit()\n",
    "\n",
    "# predicting\n",
    "prediction = lm.predict(valid.iloc[:,2:12])\n",
    "\n",
    "# MAPE\n",
    "MAPE = np.mean(abs((prediction - valid.Consumption)/valid.Consumption))\n",
    "\n",
    "models.append('Taking out Income')\n",
    "equations.append(equation)\n",
    "AdjR2.append(lm.rsquared_adj)\n",
    "MAPE_.append(MAPE)\n",
    "LR.append(lm_ref.compare_lr_test(lm))\n",
    "\n",
    "print \"Adj.R-squared = {0}    MAPE = {1}\".format(lm.rsquared_adj, MAPE)\n",
    "print \"       Change: {0}    Change: {1}  LR:{2}\".format(lm.rsquared_adj - ref_R2adj, MAPE - ref_MAPE, LR[-1])"
   ]
  },
  {
   "cell_type": "code",
   "execution_count": 298,
   "metadata": {
    "collapsed": false
   },
   "outputs": [],
   "source": [
    "results = pd.concat([pd.Series(models), pd.Series(equations), pd.Series(AdjR2),\n",
    "                     pd.Series(MAPE_), pd.Series(LR)], axis=1)\n",
    "results.rename(columns={0: 'model' , 1: 'equation', 2:'Adj-R2', 3: 'MAPE', 4: 'LR_test'}, inplace=True)"
   ]
  },
  {
   "cell_type": "code",
   "execution_count": 299,
   "metadata": {
    "collapsed": false
   },
   "outputs": [
    {
     "data": {
      "text/html": [
       "<div>\n",
       "<table border=\"1\" class=\"dataframe\">\n",
       "  <thead>\n",
       "    <tr style=\"text-align: right;\">\n",
       "      <th></th>\n",
       "      <th>model</th>\n",
       "      <th>equation</th>\n",
       "      <th>Adj-R2</th>\n",
       "      <th>MAPE</th>\n",
       "      <th>LR_test</th>\n",
       "    </tr>\n",
       "  </thead>\n",
       "  <tbody>\n",
       "    <tr>\n",
       "      <th>0</th>\n",
       "      <td>Reference (cubic temperature, no wind or humid...</td>\n",
       "      <td>Consumption ~ np.power(Temperature_F, 3) + np....</td>\n",
       "      <td>0.844306</td>\n",
       "      <td>0.136879</td>\n",
       "      <td>-</td>\n",
       "    </tr>\n",
       "    <tr>\n",
       "      <th>1</th>\n",
       "      <td>Taking out Temperature</td>\n",
       "      <td>Consumption ~ Income + DayofWeek + Hour + Week...</td>\n",
       "      <td>0.837939</td>\n",
       "      <td>0.146844</td>\n",
       "      <td>(1044.11600374, 4.83972115243e-226, 3.0)</td>\n",
       "    </tr>\n",
       "    <tr>\n",
       "      <th>2</th>\n",
       "      <td>Linear Temperature</td>\n",
       "      <td>Consumption ~ Income + Temperature_F + DayofWe...</td>\n",
       "      <td>0.843753</td>\n",
       "      <td>0.137270</td>\n",
       "      <td>(94.0998147216, 3.68540193164e-21, 2.0)</td>\n",
       "    </tr>\n",
       "    <tr>\n",
       "      <th>3</th>\n",
       "      <td>Quadratic Temperature</td>\n",
       "      <td>Consumption ~ Income + np.power(Temperature_F,...</td>\n",
       "      <td>0.843802</td>\n",
       "      <td>0.137468</td>\n",
       "      <td>(84.9859814183, 3.00487978857e-20, 1.0)</td>\n",
       "    </tr>\n",
       "    <tr>\n",
       "      <th>4</th>\n",
       "      <td>Cubic Temperature + wind + humidity</td>\n",
       "      <td>Consumption ~ Income + Wind_Speed_MPH + Humidi...</td>\n",
       "      <td>0.846312</td>\n",
       "      <td>0.136599</td>\n",
       "      <td>(338.892429402, 2.57302482258e-74, 2.0)</td>\n",
       "    </tr>\n",
       "    <tr>\n",
       "      <th>5</th>\n",
       "      <td>Taking out Income</td>\n",
       "      <td>Consumption ~ np.power(Temperature_F,3) + np.p...</td>\n",
       "      <td>0.757742</td>\n",
       "      <td>0.166464</td>\n",
       "      <td>(11486.6778036, 0.0, 2.0)</td>\n",
       "    </tr>\n",
       "  </tbody>\n",
       "</table>\n",
       "</div>"
      ],
      "text/plain": [
       "                                               model  \\\n",
       "0  Reference (cubic temperature, no wind or humid...   \n",
       "1                             Taking out Temperature   \n",
       "2                                 Linear Temperature   \n",
       "3                              Quadratic Temperature   \n",
       "4                Cubic Temperature + wind + humidity   \n",
       "5                                  Taking out Income   \n",
       "\n",
       "                                            equation    Adj-R2      MAPE  \\\n",
       "0  Consumption ~ np.power(Temperature_F, 3) + np....  0.844306  0.136879   \n",
       "1  Consumption ~ Income + DayofWeek + Hour + Week...  0.837939  0.146844   \n",
       "2  Consumption ~ Income + Temperature_F + DayofWe...  0.843753  0.137270   \n",
       "3  Consumption ~ Income + np.power(Temperature_F,...  0.843802  0.137468   \n",
       "4  Consumption ~ Income + Wind_Speed_MPH + Humidi...  0.846312  0.136599   \n",
       "5  Consumption ~ np.power(Temperature_F,3) + np.p...  0.757742  0.166464   \n",
       "\n",
       "                                    LR_test  \n",
       "0                                         -  \n",
       "1  (1044.11600374, 4.83972115243e-226, 3.0)  \n",
       "2   (94.0998147216, 3.68540193164e-21, 2.0)  \n",
       "3   (84.9859814183, 3.00487978857e-20, 1.0)  \n",
       "4   (338.892429402, 2.57302482258e-74, 2.0)  \n",
       "5                 (11486.6778036, 0.0, 2.0)  "
      ]
     },
     "execution_count": 299,
     "metadata": {},
     "output_type": "execute_result"
    }
   ],
   "source": [
    "results"
   ]
  },
  {
   "cell_type": "code",
   "execution_count": 300,
   "metadata": {
    "collapsed": true
   },
   "outputs": [],
   "source": [
    "results.to_csv(\"../Final_Data/table_for_feature_selection.csv\")"
   ]
  },
  {
   "cell_type": "markdown",
   "metadata": {},
   "source": [
    "## Final Model"
   ]
  },
  {
   "cell_type": "code",
   "execution_count": 302,
   "metadata": {
    "collapsed": false
   },
   "outputs": [],
   "source": [
    "# linear regression model\n",
    "equation = \"Consumption ~ Income + Wind_Speed_MPH + Humidity + np.power(Temperature_F,3) + np.power(Temperature_F,2) + Temperature_F + DayofWeek + Hour + WeekofYear\"\n",
    "\n",
    "lm = smf.ols(formula = equation, data = train).fit()\n",
    "\n",
    "# predicting\n",
    "prediction = lm.predict(valid.iloc[:,2:12])\n",
    "\n",
    "# MAPE\n",
    "MAPE = np.mean(abs((prediction - valid.Consumption)/valid.Consumption))\n"
   ]
  },
  {
   "cell_type": "code",
   "execution_count": 305,
   "metadata": {
    "collapsed": false
   },
   "outputs": [
    {
     "name": "stdout",
     "output_type": "stream",
     "text": [
      "                            OLS Regression Results                            \n",
      "==============================================================================\n",
      "Dep. Variable:            Consumption   R-squared:                       0.847\n",
      "Model:                            OLS   Adj. R-squared:                  0.846\n",
      "Method:                 Least Squares   F-statistic:                     1645.\n",
      "Date:                Mon, 12 Dec 2016   Prob (F-statistic):               0.00\n",
      "Time:                        02:36:15   Log-Likelihood:                 35607.\n",
      "No. Observations:               25977   AIC:                        -7.104e+04\n",
      "Df Residuals:                   25889   BIC:                        -7.032e+04\n",
      "Df Model:                          87                                         \n",
      "Covariance Type:            nonrobust                                         \n",
      "==============================================================================================\n",
      "                                 coef    std err          t      P>|t|      [95.0% Conf. Int.]\n",
      "----------------------------------------------------------------------------------------------\n",
      "Intercept                      0.2164      0.026      8.309      0.000         0.165     0.267\n",
      "Income[T.Income2]              0.0367      0.001     39.183      0.000         0.035     0.038\n",
      "Income[T.Income3]              0.1109      0.001    118.526      0.000         0.109     0.113\n",
      "DayofWeek[T.DayofWeek1]       -0.0040      0.001     -2.837      0.005        -0.007    -0.001\n",
      "DayofWeek[T.DayofWeek2]       -0.0040      0.001     -2.791      0.005        -0.007    -0.001\n",
      "DayofWeek[T.DayofWeek3]       -0.0064      0.001     -4.472      0.000        -0.009    -0.004\n",
      "DayofWeek[T.DayofWeek4]       -0.0058      0.001     -4.035      0.000        -0.009    -0.003\n",
      "DayofWeek[T.DayofWeek5]        0.0058      0.001      4.070      0.000         0.003     0.009\n",
      "DayofWeek[T.DayofWeek6]        0.0240      0.001     16.774      0.000         0.021     0.027\n",
      "Hour[T.Hour1]                  0.0272      0.003     10.181      0.000         0.022     0.032\n",
      "Hour[T.Hour10]                 0.0918      0.003     34.188      0.000         0.087     0.097\n",
      "Hour[T.Hour11]                 0.0951      0.003     35.081      0.000         0.090     0.100\n",
      "Hour[T.Hour12]                 0.1076      0.003     39.064      0.000         0.102     0.113\n",
      "Hour[T.Hour13]                 0.1101      0.003     39.828      0.000         0.105     0.116\n",
      "Hour[T.Hour14]                 0.1007      0.003     36.294      0.000         0.095     0.106\n",
      "Hour[T.Hour15]                 0.1014      0.003     36.434      0.000         0.096     0.107\n",
      "Hour[T.Hour16]                 0.1277      0.003     46.301      0.000         0.122     0.133\n",
      "Hour[T.Hour17]                 0.1936      0.003     70.695      0.000         0.188     0.199\n",
      "Hour[T.Hour18]                 0.2656      0.003     97.632      0.000         0.260     0.271\n",
      "Hour[T.Hour19]                 0.3013      0.003    111.996      0.000         0.296     0.307\n",
      "Hour[T.Hour2]                 -0.0464      0.003    -17.406      0.000        -0.052    -0.041\n",
      "Hour[T.Hour20]                 0.2969      0.003    111.102      0.000         0.292     0.302\n",
      "Hour[T.Hour21]                 0.2687      0.003    100.788      0.000         0.263     0.274\n",
      "Hour[T.Hour22]                 0.2078      0.003     78.129      0.000         0.203     0.213\n",
      "Hour[T.Hour23]                 0.1060      0.003     39.887      0.000         0.101     0.111\n",
      "Hour[T.Hour3]                 -0.0908      0.003    -34.024      0.000        -0.096    -0.086\n",
      "Hour[T.Hour4]                 -0.1124      0.003    -41.879      0.000        -0.118    -0.107\n",
      "Hour[T.Hour5]                 -0.1083      0.003    -40.498      0.000        -0.114    -0.103\n",
      "Hour[T.Hour6]                 -0.0609      0.003    -22.776      0.000        -0.066    -0.056\n",
      "Hour[T.Hour7]                  0.0190      0.003      7.142      0.000         0.014     0.024\n",
      "Hour[T.Hour8]                  0.0655      0.003     24.649      0.000         0.060     0.071\n",
      "Hour[T.Hour9]                  0.0904      0.003     33.931      0.000         0.085     0.096\n",
      "WeekofYear[T.WeekofYear10]    -0.0172      0.004     -4.501      0.000        -0.025    -0.010\n",
      "WeekofYear[T.WeekofYear11]    -0.0669      0.004    -17.227      0.000        -0.075    -0.059\n",
      "WeekofYear[T.WeekofYear12]    -0.0758      0.004    -19.113      0.000        -0.084    -0.068\n",
      "WeekofYear[T.WeekofYear13]    -0.0928      0.004    -22.906      0.000        -0.101    -0.085\n",
      "WeekofYear[T.WeekofYear14]    -0.0917      0.004    -23.522      0.000        -0.099    -0.084\n",
      "WeekofYear[T.WeekofYear15]    -0.0962      0.004    -24.982      0.000        -0.104    -0.089\n",
      "WeekofYear[T.WeekofYear16]    -0.0928      0.004    -24.404      0.000        -0.100    -0.085\n",
      "WeekofYear[T.WeekofYear17]    -0.0966      0.004    -25.475      0.000        -0.104    -0.089\n",
      "WeekofYear[T.WeekofYear18]    -0.1066      0.004    -27.450      0.000        -0.114    -0.099\n",
      "WeekofYear[T.WeekofYear19]    -0.1097      0.004    -27.889      0.000        -0.117    -0.102\n",
      "WeekofYear[T.WeekofYear2]     -0.0100      0.004     -2.560      0.010        -0.018    -0.002\n",
      "WeekofYear[T.WeekofYear20]    -0.1267      0.004    -32.661      0.000        -0.134    -0.119\n",
      "WeekofYear[T.WeekofYear21]    -0.1212      0.004    -27.997      0.000        -0.130    -0.113\n",
      "WeekofYear[T.WeekofYear22]    -0.1348      0.004    -32.279      0.000        -0.143    -0.127\n",
      "WeekofYear[T.WeekofYear23]    -0.1304      0.004    -33.152      0.000        -0.138    -0.123\n",
      "WeekofYear[T.WeekofYear24]    -0.1246      0.004    -31.446      0.000        -0.132    -0.117\n",
      "WeekofYear[T.WeekofYear25]    -0.1333      0.004    -32.921      0.000        -0.141    -0.125\n",
      "WeekofYear[T.WeekofYear26]    -0.1286      0.004    -30.543      0.000        -0.137    -0.120\n",
      "WeekofYear[T.WeekofYear27]    -0.1315      0.004    -30.997      0.000        -0.140    -0.123\n",
      "WeekofYear[T.WeekofYear28]    -0.1379      0.004    -33.693      0.000        -0.146    -0.130\n",
      "WeekofYear[T.WeekofYear29]    -0.1362      0.004    -32.727      0.000        -0.144    -0.128\n",
      "WeekofYear[T.WeekofYear3]      0.0079      0.004      2.067      0.039         0.000     0.015\n",
      "WeekofYear[T.WeekofYear30]    -0.1215      0.004    -27.438      0.000        -0.130    -0.113\n",
      "WeekofYear[T.WeekofYear31]    -0.1394      0.004    -33.351      0.000        -0.148    -0.131\n",
      "WeekofYear[T.WeekofYear32]    -0.1301      0.004    -29.816      0.000        -0.139    -0.122\n",
      "WeekofYear[T.WeekofYear33]    -0.1273      0.005    -28.183      0.000        -0.136    -0.118\n",
      "WeekofYear[T.WeekofYear34]    -0.1399      0.004    -32.811      0.000        -0.148    -0.132\n",
      "WeekofYear[T.WeekofYear35]    -0.1362      0.004    -33.007      0.000        -0.144    -0.128\n",
      "WeekofYear[T.WeekofYear36]    -0.1255      0.004    -29.045      0.000        -0.134    -0.117\n",
      "WeekofYear[T.WeekofYear37]    -0.1329      0.004    -32.967      0.000        -0.141    -0.125\n",
      "WeekofYear[T.WeekofYear38]    -0.1244      0.004    -31.498      0.000        -0.132    -0.117\n",
      "WeekofYear[T.WeekofYear39]    -0.1112      0.004    -28.358      0.000        -0.119    -0.104\n",
      "WeekofYear[T.WeekofYear4]     -0.0035      0.004     -0.905      0.365        -0.011     0.004\n",
      "WeekofYear[T.WeekofYear40]    -0.1091      0.004    -27.693      0.000        -0.117    -0.101\n",
      "WeekofYear[T.WeekofYear41]    -0.0963      0.004    -24.634      0.000        -0.104    -0.089\n",
      "WeekofYear[T.WeekofYear42]    -0.0886      0.004    -22.333      0.000        -0.096    -0.081\n",
      "WeekofYear[T.WeekofYear43]    -0.0778      0.004    -19.906      0.000        -0.085    -0.070\n",
      "WeekofYear[T.WeekofYear44]    -0.0655      0.004    -17.192      0.000        -0.073    -0.058\n",
      "WeekofYear[T.WeekofYear45]    -0.0549      0.004    -14.154      0.000        -0.062    -0.047\n",
      "WeekofYear[T.WeekofYear46]    -0.0563      0.004    -14.167      0.000        -0.064    -0.049\n",
      "WeekofYear[T.WeekofYear47]    -0.0509      0.004    -13.257      0.000        -0.058    -0.043\n",
      "WeekofYear[T.WeekofYear48]    -0.0321      0.004     -8.155      0.000        -0.040    -0.024\n",
      "WeekofYear[T.WeekofYear49]    -0.0127      0.004     -3.260      0.001        -0.020    -0.005\n",
      "WeekofYear[T.WeekofYear5]      0.0405      0.004      9.513      0.000         0.032     0.049\n",
      "WeekofYear[T.WeekofYear50]    -0.0125      0.004     -3.120      0.002        -0.020    -0.005\n",
      "WeekofYear[T.WeekofYear51]    -0.0320      0.004     -8.296      0.000        -0.040    -0.024\n",
      "WeekofYear[T.WeekofYear52]    -0.0324      0.004     -8.836      0.000        -0.040    -0.025\n",
      "WeekofYear[T.WeekofYear6]      0.0473      0.004     10.937      0.000         0.039     0.056\n",
      "WeekofYear[T.WeekofYear7]      0.0083      0.004      2.181      0.029         0.001     0.016\n",
      "WeekofYear[T.WeekofYear8]     -0.0141      0.004     -3.664      0.000        -0.022    -0.007\n",
      "WeekofYear[T.WeekofYear9]     -0.0394      0.004    -10.144      0.000        -0.047    -0.032\n",
      "Wind_Speed_MPH                 0.0007      0.000      6.653      0.000         0.000     0.001\n",
      "Humidity                       0.0007   3.95e-05     17.683      0.000         0.001     0.001\n",
      "np.power(Temperature_F, 3)  1.688e-06   1.74e-07      9.712      0.000      1.35e-06  2.03e-06\n",
      "np.power(Temperature_F, 2)    -0.0003   2.84e-05     -9.322      0.000        -0.000    -0.000\n",
      "Temperature_F                  0.0108      0.001      7.283      0.000         0.008     0.014\n",
      "==============================================================================\n",
      "Omnibus:                     2842.220   Durbin-Watson:                   1.036\n",
      "Prob(Omnibus):                  0.000   Jarque-Bera (JB):             6766.489\n",
      "Skew:                           0.653   Prob(JB):                         0.00\n",
      "Kurtosis:                       5.132   Cond. No.                     1.30e+07\n",
      "==============================================================================\n",
      "\n",
      "Warnings:\n",
      "[1] Standard Errors assume that the covariance matrix of the errors is correctly specified.\n",
      "[2] The condition number is large, 1.3e+07. This might indicate that there are\n",
      "strong multicollinearity or other numerical problems.\n"
     ]
    }
   ],
   "source": [
    "print lm.summary()"
   ]
  },
  {
   "cell_type": "code",
   "execution_count": 313,
   "metadata": {
    "collapsed": false
   },
   "outputs": [],
   "source": [
    "f = open('../Final_Data/ols_summary.txt', 'w')\n",
    "f.write(str(lm.summary()))\n",
    "f.close()"
   ]
  },
  {
   "cell_type": "code",
   "execution_count": 315,
   "metadata": {
    "collapsed": false
   },
   "outputs": [],
   "source": [
    "valid['predicted'] = prediction"
   ]
  },
  {
   "cell_type": "code",
   "execution_count": 316,
   "metadata": {
    "collapsed": true
   },
   "outputs": [],
   "source": [
    "valid.to_csv('../Final_Data/predicted_2013.csv')"
   ]
  },
  {
   "cell_type": "code",
   "execution_count": null,
   "metadata": {
    "collapsed": true
   },
   "outputs": [],
   "source": []
  }
 ],
 "metadata": {
  "kernelspec": {
   "display_name": "Python 2",
   "language": "python",
   "name": "python2"
  },
  "language_info": {
   "codemirror_mode": {
    "name": "ipython",
    "version": 2
   },
   "file_extension": ".py",
   "mimetype": "text/x-python",
   "name": "python",
   "nbconvert_exporter": "python",
   "pygments_lexer": "ipython2",
   "version": "2.7.11"
  }
 },
 "nbformat": 4,
 "nbformat_minor": 0
}
